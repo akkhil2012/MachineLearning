{
 "cells": [
  {
   "cell_type": "code",
   "execution_count": 204,
   "metadata": {},
   "outputs": [
    {
     "name": "stdout",
     "output_type": "stream",
     "text": [
      " variables observations   (39, 7)\n",
      " Target Observation  (39,)\n"
     ]
    }
   ],
   "source": [
    "###================================ Problem statement with dataset find here =========================================\n",
    "\n",
    "##https://www.kaggle.com/uciml/zoo-animal-classification\n",
    "\n",
    "###====================================================================================================================\n",
    "## classify the Animal in Zoo\n",
    "##There are 16 variables with various traits to describe the animals. The 7 Class Types are: Mammal, Bird, Reptile, Fish, Amphibian, Bug and Invertebrate\n",
    "\n",
    "##The purpose for this dataset is to be able to predict the classification of the animals, based upon the variables.\n",
    "\n",
    "import numpy as np\n",
    "import matplotlib.pyplot as plt\n",
    "\n",
    "import pandas\n",
    "\n",
    "dataset = pandas.read_csv('C:\\\\Sample.csv')\n",
    "\n",
    "#print(dataset)\n",
    "\n",
    "X,y = dataset.loc[:, dataset.columns != \"animal_name\"],dataset.class_type\n",
    "## Ensure that the string which is Animal Name here is taken as parameter to exclude while creating input dataset\n",
    "print(\" variables observations  \",X.shape)\n",
    "print(\" Target Observation \" , y.shape)\n",
    "\n",
    "#print(\"y is ====>\" ,  y)\n",
    "\n",
    "\n",
    "\n",
    "\n",
    "\n"
   ]
  },
  {
   "cell_type": "code",
   "execution_count": null,
   "metadata": {},
   "outputs": [],
   "source": []
  },
  {
   "cell_type": "code",
   "execution_count": 205,
   "metadata": {},
   "outputs": [
    {
     "name": "stdout",
     "output_type": "stream",
     "text": [
      " Before  stratefication.................\n",
      "All: [ 0.         48.71794872 51.28205128]\n",
      "Training: [ 0.         44.82758621 55.17241379]\n",
      "Test: [ 0. 60. 40.]\n",
      " After stratefication.................\n",
      "All: [ 0.         48.71794872 51.28205128]\n",
      "Training: [ 0.         48.27586207 51.72413793]\n",
      "Test: [ 0. 50. 50.]\n"
     ]
    }
   ],
   "source": [
    "from sklearn.model_selection import train_test_split\n",
    "\n",
    "\n",
    "X_train, X_test, y_train, y_test = train_test_split(X, y,\n",
    "                                                    test_size=0.25)\n",
    "print(\" Before  stratefication.................\")\n",
    "print('All:', np.bincount(y) / float(len(y)) * 100.0)\n",
    "print('Training:', np.bincount(y_train) / float(len(y_train)) * 100.0)\n",
    "print('Test:', np.bincount(y_test) / float(len(y_test)) * 100.0)\n",
    "\n",
    "X_train, X_test, y_train, y_test = train_test_split(X, y,\n",
    "                                                    test_size=0.25,\n",
    "                                                    stratify=y)\n",
    "\n",
    "print(\" After stratefication.................\")\n",
    "\n",
    "print('All:', np.bincount(y) / float(len(y)) * 100.0)\n",
    "print('Training:', np.bincount(y_train) / float(len(y_train)) * 100.0)\n",
    "print('Test:', np.bincount(y_test) / float(len(y_test)) * 100.0)\n"
   ]
  },
  {
   "cell_type": "code",
   "execution_count": 206,
   "metadata": {},
   "outputs": [
    {
     "name": "stdout",
     "output_type": "stream",
     "text": [
      " Before applying scaler =======================\n",
      "(29, 7)\n",
      "mean : DiskSpace     70.103448\n",
      "CPU           20.137931\n",
      "Processes     14.793103\n",
      "Time-taken    20.137931\n",
      "X             20.137931\n",
      "Y             20.137931\n",
      "class_type     1.517241\n",
      "dtype: float64 \n",
      "standard deviation : DiskSpace     11.245141\n",
      "CPU           11.224094\n",
      "Processes      5.771725\n",
      "Time-taken    11.224094\n",
      "X             11.224094\n",
      "Y             11.224094\n",
      "class_type     0.508548\n",
      "dtype: float64 \n",
      " After  applying scaler =======================\n",
      "(29, 7)\n",
      "mean : [4.32604144e-16 3.63693749e-17 1.30164079e-16 3.63693749e-17\n",
      " 3.63693749e-17 3.63693749e-17 2.14387894e-16] \n",
      "standard deviation : [1. 1. 1. 1. 1. 1. 1.] \n"
     ]
    }
   ],
   "source": [
    "from sklearn.preprocessing import StandardScaler\n",
    "from sklearn.tree import DecisionTreeClassifier\n",
    "\n",
    "print(\" Before applying scaler =======================\")\n",
    "\n",
    "print(X_train.shape)\n",
    "print(\"mean : %s \" % X_train.mean(axis=0))\n",
    "print(\"standard deviation : %s \" % X_train.std(axis=0))\n",
    "\n",
    "\n",
    "print(\" After  applying scaler =======================\")\n",
    "#### Scalar Deviation bring the variables on same scalar. with std deviation as 1\n",
    "scaler = StandardScaler()\n",
    "\n",
    "\n",
    "scaler.fit(X_train)\n",
    "X_train_scaled = scaler.transform(X_train)\n",
    "print(X_train_scaled.shape)\n",
    "print(\"mean : %s \" % X_train_scaled.mean(axis=0))\n",
    "print(\"standard deviation : %s \" % X_train_scaled.std(axis=0))\n",
    "\n",
    "\n",
    "\n"
   ]
  },
  {
   "cell_type": "code",
   "execution_count": 207,
   "metadata": {},
   "outputs": [
    {
     "name": "stdout",
     "output_type": "stream",
     "text": [
      "mean test data: [-0.04556275 -0.04877477 -0.1222116  -0.04877477 -0.04877477 -0.04877477\n",
      " -0.03450328]\n"
     ]
    }
   ],
   "source": [
    "##It's important to note that the same transformation is applied to the training and the test set. That has the consequence that usually the mean of the test data is not zero after scaling:\n",
    "\n",
    "X_test_scaled = scaler.transform(X_test)\n",
    "print(\"mean test data: %s\" % X_test_scaled.mean(axis=0))\n",
    "\n",
    "###??? figures not recognized as modle\n",
    "#from figures import plot_relative_scaling\n",
    "#plot_relative_scaling()\n",
    "\n",
    "\n",
    "#from figures import plot_scaling\n",
    "#plot_scaling()\n",
    "\n",
    "\n"
   ]
  },
  {
   "cell_type": "code",
   "execution_count": 208,
   "metadata": {},
   "outputs": [],
   "source": [
    "#import mglearn\n",
    "#mglearn.plots.plot_tree_not_monotone()"
   ]
  },
  {
   "cell_type": "code",
   "execution_count": null,
   "metadata": {},
   "outputs": [],
   "source": []
  },
  {
   "cell_type": "code",
   "execution_count": 209,
   "metadata": {},
   "outputs": [
    {
     "name": "stdout",
     "output_type": "stream",
     "text": [
      "All: [ 0.         48.71794872 51.28205128]\n",
      "Training: [ 0.         48.27586207 51.72413793]\n",
      "Test: [ 0. 50. 50.]\n"
     ]
    }
   ],
   "source": [
    "\n",
    "from sklearn.model_selection import train_test_split\n",
    "\n",
    "X_train, X_test, train_y, test_y = train_test_split(X, y, test_size=0.25, random_state=1234,stratify=y)\n",
    "#### Stratefication NOT working across all variables here??\n",
    "\n",
    "print('All:', np.bincount(y) / float(len(y)) * 100.0)\n",
    "print('Training:', np.bincount(train_y) / float(len(train_y)) * 100.0)\n",
    "print('Test:', np.bincount(test_y) / float(len(test_y)) * 100.0)\n",
    "\n"
   ]
  },
  {
   "cell_type": "code",
   "execution_count": 210,
   "metadata": {},
   "outputs": [
    {
     "name": "stdout",
     "output_type": "stream",
     "text": [
      "************************************************************\n",
      "********************Prediction ****************************************\n",
      "[1 2 2 2 1 1 2 1 2 1]\n",
      "*********************Actuals***************************************\n",
      "35    2\n",
      "8     1\n",
      "11    1\n",
      "27    2\n",
      "18    1\n",
      "3     1\n",
      "34    2\n",
      "20    2\n",
      "29    2\n",
      "1     1\n",
      "Name: class_type, dtype: int64\n"
     ]
    }
   ],
   "source": [
    "from sklearn.tree import DecisionTreeClassifier\n",
    "\n",
    "clf_gini = DecisionTreeClassifier(criterion = \"gini\", random_state = 100,\n",
    "                               min_samples_leaf=5)\n",
    "\n",
    "##clf_gini = DecisionTreeClassifier(criterion = \"gini\", random_state = 100) using so that the leaf nodes are pure\n",
    "clf = clf_gini.fit(X_train, train_y)\n",
    "\n",
    "##################### Prediction using default parametrs #############################################\n",
    "print(\"************************************************************\")\n",
    "classifier = DecisionTreeClassifier()\n",
    "classifier.fit(X_train, y_train)\n",
    "\n",
    "prediction = classifier.predict(X_test)\n",
    "print(\"********************Prediction ****************************************\")\n",
    "print(prediction)\n",
    "print(\"*********************Actuals***************************************\")\n",
    "print(y_test)\n",
    "\n",
    "#######################################ends here ##########################33\n",
    "from inspect import getmembers\n",
    "##print( getmembers( clf.tree_ ) )\n",
    "\n",
    "\n",
    "\n"
   ]
  },
  {
   "cell_type": "code",
   "execution_count": 211,
   "metadata": {},
   "outputs": [
    {
     "name": "stdout",
     "output_type": "stream",
     "text": [
      "[1 2 2 1 1 1 2 2 1 2]\n"
     ]
    }
   ],
   "source": [
    "from sklearn import tree\n",
    "\n",
    "tree.export_graphviz(clf_gini,out_file='tree.pdf')\n",
    "\n",
    "\n",
    "y_pred = clf_gini.predict(X_test)\n",
    "print(y_pred)"
   ]
  },
  {
   "cell_type": "code",
   "execution_count": 212,
   "metadata": {},
   "outputs": [
    {
     "name": "stdout",
     "output_type": "stream",
     "text": [
      "Accuracy is  100.0\n"
     ]
    }
   ],
   "source": [
    "from sklearn.metrics import accuracy_score\n",
    "print (\"Accuracy is \", accuracy_score(test_y,y_pred)*100)"
   ]
  },
  {
   "cell_type": "code",
   "execution_count": 213,
   "metadata": {},
   "outputs": [
    {
     "name": "stdout",
     "output_type": "stream",
     "text": [
      "Samples correctly classified:\n",
      "predicted is  [1 2 2 1 1 1 2 2 1 2]\n",
      "actual  is  0    NaN\n",
      "1    NaN\n",
      "2    NaN\n",
      "3    NaN\n",
      "4    1.0\n",
      "5    NaN\n",
      "6    1.0\n",
      "7    NaN\n",
      "8    1.0\n",
      "9    NaN\n",
      "Name: class_type, dtype: float64\n"
     ]
    }
   ],
   "source": [
    "print('Samples correctly classified:')\n",
    "correct_idx = np.where(y_pred == test_y)[0]\n",
    "print(\"predicted is \" , y_pred[correct_idx])\n",
    "print(\"actual  is \" , test_y[correct_idx])\n",
    "\n",
    "\n",
    "#print('\\nSamples incorrectly classified:')\n",
    "#incorrect_idx = np.where(y_pred != test_y)[0]\n",
    "#print(incorrect_idx)"
   ]
  },
  {
   "cell_type": "code",
   "execution_count": 214,
   "metadata": {},
   "outputs": [
    {
     "name": "stdout",
     "output_type": "stream",
     "text": [
      "0.6\n",
      "[[5 0]\n",
      " [0 5]]\n"
     ]
    }
   ],
   "source": [
    "from sklearn.metrics import confusion_matrix\n",
    "\n",
    "print(classifier.score(X_test, test_y))##### How is score diferent from COnfusion Matrix ?????????????????\n",
    "\n",
    "print(confusion_matrix(test_y, y_pred))\n",
    "\n",
    "#pandas.crosstab(test_y, y_pred, rownames=['True'], colnames=['Predicted'], margins=True)\n"
   ]
  },
  {
   "cell_type": "code",
   "execution_count": 215,
   "metadata": {},
   "outputs": [
    {
     "data": {
      "text/plain": [
       "1.0"
      ]
     },
     "execution_count": 215,
     "metadata": {},
     "output_type": "execute_result"
    }
   ],
   "source": [
    "from sklearn.metrics import f1_score\n",
    "f1_score(test_y, y_pred, average='macro')"
   ]
  },
  {
   "cell_type": "code",
   "execution_count": 216,
   "metadata": {},
   "outputs": [],
   "source": [
    "#import graphviz\n",
    "from sklearn.tree import export_graphviz\n",
    "\n",
    "tree.export_graphviz(clf,out_file='test3.dot')  \n",
    "\n",
    "### Execute the below command in conda prompt to convert to png\n",
    "#dot -Tpng test1.dot -o tree.png"
   ]
  },
  {
   "cell_type": "code",
   "execution_count": 217,
   "metadata": {},
   "outputs": [],
   "source": [
    "#![title](tree1.png)\n",
    "\n",
    "from IPython.core.display import Image, display\n",
    "#display(Image('tree3.png', width=200, height=300, unconfined=True))\n",
    "\n",
    "#tree.export_graphviz(clf,out_file='tree3.dot', class_names=['CPU', 'DiskSpace', 'PROCESSES']) \n",
    "\n",
    "########################  dot -Tpng tree.dot -o tree8.png #######################\n"
   ]
  },
  {
   "cell_type": "code",
   "execution_count": 218,
   "metadata": {},
   "outputs": [
    {
     "data": {
      "text/plain": [
       "True"
      ]
     },
     "execution_count": 218,
     "metadata": {},
     "output_type": "execute_result"
    }
   ],
   "source": [
    "import pydotplus\n",
    "import collections\n",
    "\n",
    "data_feature_names = [ 'DiskSpace', 'CPU Usage', 'Processes' ]\n",
    "# Visualize data\n",
    "dot_data = tree.export_graphviz(clf,\n",
    "                                feature_names=data_feature_names,\n",
    "                                out_file=None,\n",
    "                                filled=True,\n",
    "                                rounded=True)\n",
    "graph = pydotplus.graph_from_dot_data(dot_data)\n",
    "\n",
    "colors = ('turquoise', 'orange')\n",
    "edges = collections.defaultdict(list)\n",
    "\n",
    "for edge in graph.get_edge_list():\n",
    "    edges[edge.get_source()].append(int(edge.get_destination()))\n",
    "\n",
    "for edge in edges:\n",
    "    edges[edge].sort()    \n",
    "    for i in range(2):\n",
    "        dest = graph.get_node(str(edges[edge][i]))[0]\n",
    "        dest.set_fillcolor(colors[i])\n",
    "\n",
    "graph.write_png('tree.png')"
   ]
  },
  {
   "cell_type": "code",
   "execution_count": 219,
   "metadata": {},
   "outputs": [
    {
     "data": {
      "image/png": "[encoded data removed]",
      "text/plain": [
       "<IPython.core.display.Image object>"
      ]
     },
     "metadata": {
      "image/png": {
       "height": 300,
       "unconfined": true,
       "width": 200
      }
     },
     "output_type": "display_data"
    }
   ],
   "source": [
    "display(Image('tree.png', width=200, height=300, unconfined=True))"
   ]
  }
 ],
 "metadata": {
  "kernelspec": {
   "display_name": "Python 3",
   "language": "python",
   "name": "python3"
  },
  "language_info": {
   "codemirror_mode": {
    "name": "ipython",
    "version": 3
   },
   "file_extension": ".py",
   "mimetype": "text/x-python",
   "name": "python",
   "nbconvert_exporter": "python",
   "pygments_lexer": "ipython3",
   "version": "3.6.1"
  }
 },
 "nbformat": 4,
 "nbformat_minor": 2
}
