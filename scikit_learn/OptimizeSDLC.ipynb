{
 "cells": [
  {
   "cell_type": "markdown",
   "metadata": {},
   "source": [
    "Categorical Prediction:\n",
    "    If the Commit has a associated issue number: +ve Bucket\n",
    "    else -ve Bucket    "
   ]
  },
  {
   "cell_type": "code",
   "execution_count": 110,
   "metadata": {},
   "outputs": [
    {
     "name": "stdout",
     "output_type": "stream",
     "text": [
      "                                              author  \\\n",
      "0                                               None   \n",
      "1  {'login': 'akkhil2012', 'id': 3898532, 'avatar...   \n",
      "2  {'login': 'akkhil2012', 'id': 3898532, 'avatar...   \n",
      "3  {'login': 'akkhil2012', 'id': 3898532, 'avatar...   \n",
      "4  {'login': 'akkhil2012', 'id': 3898532, 'avatar...   \n",
      "\n",
      "                                        comments_url  \\\n",
      "0  https://api.github.com/repos/akkhil2012/Machin...   \n",
      "1  https://api.github.com/repos/akkhil2012/Machin...   \n",
      "2  https://api.github.com/repos/akkhil2012/Machin...   \n",
      "3  https://api.github.com/repos/akkhil2012/Machin...   \n",
      "4  https://api.github.com/repos/akkhil2012/Machin...   \n",
      "\n",
      "                                              commit  \\\n",
      "0  {'author': {'name': 'kgupta64', 'email': 'kgup...   \n",
      "1  {'author': {'name': 'AKHIL GUPTA', 'email': 'a...   \n",
      "2  {'author': {'name': 'AKHIL GUPTA', 'email': 'a...   \n",
      "3  {'author': {'name': 'AKHIL GUPTA', 'email': 'a...   \n",
      "4  {'author': {'name': 'AKHIL GUPTA', 'email': 'a...   \n",
      "\n",
      "                                           committer  \\\n",
      "0                                               None   \n",
      "1  {'login': 'web-flow', 'id': 19864447, 'avatar_...   \n",
      "2  {'login': 'web-flow', 'id': 19864447, 'avatar_...   \n",
      "3  {'login': 'web-flow', 'id': 19864447, 'avatar_...   \n",
      "4  {'login': 'web-flow', 'id': 19864447, 'avatar_...   \n",
      "\n",
      "                                            html_url  \\\n",
      "0  https://github.com/akkhil2012/MachineLearning/...   \n",
      "1  https://github.com/akkhil2012/MachineLearning/...   \n",
      "2  https://github.com/akkhil2012/MachineLearning/...   \n",
      "3  https://github.com/akkhil2012/MachineLearning/...   \n",
      "4  https://github.com/akkhil2012/MachineLearning/...   \n",
      "\n",
      "                                             parents  \\\n",
      "0  [{'sha': '57f90f49744a58969fae22a086ea31a77ec7...   \n",
      "1  [{'sha': '6adc2c9dc03ce1cc24d4b415b0db77ccbe12...   \n",
      "2  [{'sha': '1ee4fb194c161c29a759e64c6f4811cfd6d5...   \n",
      "3  [{'sha': '1f070ec179f74b9b8f07ddf2a6158aea1037...   \n",
      "4  [{'sha': 'c2925e54589dd65296dfe80df5492750da25...   \n",
      "\n",
      "                                        sha  \\\n",
      "0  6d903c6e8c93e149e861ac4e6ba9514a1c4f3c2d   \n",
      "1  57f90f49744a58969fae22a086ea31a77ec706e6   \n",
      "2  6adc2c9dc03ce1cc24d4b415b0db77ccbe128bbc   \n",
      "3  1ee4fb194c161c29a759e64c6f4811cfd6d55305   \n",
      "4  1f070ec179f74b9b8f07ddf2a6158aea103700b0   \n",
      "\n",
      "                                                 url  \n",
      "0  https://api.github.com/repos/akkhil2012/Machin...  \n",
      "1  https://api.github.com/repos/akkhil2012/Machin...  \n",
      "2  https://api.github.com/repos/akkhil2012/Machin...  \n",
      "3  https://api.github.com/repos/akkhil2012/Machin...  \n",
      "4  https://api.github.com/repos/akkhil2012/Machin...  \n",
      "<class 'pandas.core.frame.DataFrame'>\n",
      "RangeIndex: 30 entries, 0 to 29\n",
      "Data columns (total 8 columns):\n",
      "author          29 non-null object\n",
      "comments_url    30 non-null object\n",
      "commit          30 non-null object\n",
      "committer       29 non-null object\n",
      "html_url        30 non-null object\n",
      "parents         30 non-null object\n",
      "sha             30 non-null object\n",
      "url             30 non-null object\n",
      "dtypes: object(8)\n",
      "memory usage: 2.0+ KB\n",
      "None\n"
     ]
    }
   ],
   "source": [
    "from urllib.request import urlopen\n",
    "import json\n",
    "from pandas.io.json import json_normalize\n",
    "import pandas as pd  # read and wrangle dataframes\n",
    "\n",
    "import requests\n",
    "\n",
    "\n",
    "\n",
    "#response = pd.read_json('https://api.github.com/repos/akkhil2012/MachineLearning/commits/57f90f49744a58969fae22a086ea31a77ec706e6')\n",
    "df = json.loads(requests.get('https://api.github.com/repos/akkhil2012/MachineLearning/commits').text)\n",
    "\n",
    "# to get the issue asscoiated with commits: https://api.github.com/repos/akkhil2012/MachineLearning/issues/1/comments\n",
    "data = pd.DataFrame.from_dict(df, orient='columns')\n",
    "\n",
    "print(data.head())\n",
    "\n",
    "\n",
    "print(data.info())\n",
    "\n",
    "\n",
    "\n",
    "\n",
    "\n",
    "\n",
    "\n",
    "\n"
   ]
  },
  {
   "cell_type": "code",
   "execution_count": 111,
   "metadata": {},
   "outputs": [
    {
     "name": "stdout",
     "output_type": "stream",
     "text": [
      "(30, 8)\n"
     ]
    }
   ],
   "source": [
    "features = data.columns[:-1].tolist()\n",
    "print(data.shape)"
   ]
  },
  {
   "cell_type": "code",
   "execution_count": 112,
   "metadata": {},
   "outputs": [
    {
     "name": "stdout",
     "output_type": "stream",
     "text": [
      "<class 'pandas.core.frame.DataFrame'>\n",
      "RangeIndex: 30 entries, 0 to 29\n",
      "Data columns (total 8 columns):\n",
      "author          29 non-null object\n",
      "comments_url    30 non-null object\n",
      "commit          30 non-null object\n",
      "committer       29 non-null object\n",
      "html_url        30 non-null object\n",
      "parents         30 non-null object\n",
      "sha             30 non-null object\n",
      "url             30 non-null object\n",
      "dtypes: object(8)\n",
      "memory usage: 2.0+ KB\n"
     ]
    }
   ],
   "source": [
    "data.info()"
   ]
  },
  {
   "cell_type": "code",
   "execution_count": 113,
   "metadata": {},
   "outputs": [
    {
     "name": "stdout",
     "output_type": "stream",
     "text": [
      "object\n",
      "commented BoxCox Api : fixes #1\n",
      "CompleteCodeWithGraphs\n",
      "\n",
      "CompleteCodeWithGraphs\n",
      "Decision tree : pipeline\n",
      "\n",
      "Decision tree : pipeline\n",
      "KNN Using Pipeline\n",
      "\n",
      "KNN Using Pipeline\n",
      "Modified notebook with graphs\n",
      "\n",
      "Modified notebook with graphs\n",
      "Linear Regression\n",
      "\n",
      "Linear Regression : Loan Application\n",
      "Twitter gender\n",
      "\n",
      "Twitter gender determination\n",
      "Pipeline sample\n",
      "\n",
      "Pipeline sample using GridSearchCV + LogisticRegression\n",
      "modified with the score Vs Confusion matrix change\n",
      "\n",
      "modified with the score Vs Confusion matrix change\n",
      "Animal Decision Tree\n",
      "\n",
      "Animal Decision Tree\n",
      "voice detection\n",
      "\n",
      "voice detection using SVM\n",
      "Decision Tree : Classification\n",
      "\n",
      "Predicting type of animal : using decision tree\n",
      "DataSplit : native\n",
      "\n",
      "DataSplit : native\n",
      "Cancer data set using KNN Algo\n",
      "\n",
      "Cancer data set using KNN Algo\n",
      "Demonetisation\n",
      "\n",
      "Demonetisation\n",
      "Linear_Regression\n",
      "\n",
      "Linear_Regression : using inbuild datasets\n",
      "PCA_iris\n",
      "\n",
      "PCA_iris\n",
      "KNearestNeighbours\n",
      "\n",
      "KNearestNeighbours\n",
      "KNearestNeighbours\n",
      "\n",
      "KNearestNeighbours\n",
      "SVM: to determine digits\n",
      "\n",
      "SVM: to determine digits\n",
      "Updated With Comments\n",
      "\n",
      "Updated With Comments\n",
      "outputFile for DecionTree_PersonalLoan\n",
      "\n",
      "outputFile for DecionTree_PersonalLoan\n",
      "Added DecisionTree for Personal Loan\n",
      "\n",
      "Added DecisionTree for Personal Loan\n",
      "Updated docs\n",
      "\n",
      "Updated Docs\n",
      "Docs updates\n",
      "\n",
      "Docs updates\n",
      "CorrValidation_iris\n",
      "\n",
      "CorrValidation_iris\n",
      "SVM_UniversalBank\n",
      "\n",
      "SVM_UniversalBank\n",
      "XGBoostagaricus\n",
      "\n",
      "XGBoostagaricus\n",
      "RandomForest_birthwt\n",
      "\n",
      "RandomForest_birthwt\n",
      "KNN Iris Example\n",
      "\n",
      "KNN Iris Example\n"
     ]
    }
   ],
   "source": [
    "print(data['commit'].dtypes)\n",
    "\n",
    "temp = data['commit']\n",
    "\n",
    "for item in data[\"commit\"]:\n",
    "    print (item[\"message\"])        \n",
    "        \n",
    "     "
   ]
  },
  {
   "cell_type": "code",
   "execution_count": 114,
   "metadata": {},
   "outputs": [
    {
     "ename": "JSONDecodeError",
     "evalue": "Expecting value: line 1 column 48 (char 47)",
     "output_type": "error",
     "traceback": [
      "\u001b[1;31m---------------------------------------------------------------------------\u001b[0m",
      "\u001b[1;31mJSONDecodeError\u001b[0m                           Traceback (most recent call last)",
      "\u001b[1;32m<ipython-input-114-0a5221ac4acf>\u001b[0m in \u001b[0;36m<module>\u001b[1;34m()\u001b[0m\n\u001b[0;32m      1\u001b[0m \u001b[0mfeatures\u001b[0m \u001b[1;33m=\u001b[0m \u001b[0mstr\u001b[0m\u001b[1;33m(\u001b[0m\u001b[0mdata\u001b[0m\u001b[1;33m)\u001b[0m\u001b[1;33m\u001b[0m\u001b[0m\n\u001b[1;32m----> 2\u001b[1;33m \u001b[0mdata\u001b[0m  \u001b[1;33m=\u001b[0m \u001b[0mjson\u001b[0m\u001b[1;33m.\u001b[0m\u001b[0mloads\u001b[0m\u001b[1;33m(\u001b[0m\u001b[0mfeatures\u001b[0m\u001b[1;33m)\u001b[0m\u001b[1;33m\u001b[0m\u001b[0m\n\u001b[0m\u001b[0;32m      3\u001b[0m \u001b[0mprint\u001b[0m\u001b[1;33m(\u001b[0m\u001b[0mdata\u001b[0m\u001b[1;33m[\u001b[0m\u001b[1;36m0\u001b[0m\u001b[1;33m]\u001b[0m\u001b[1;33m)\u001b[0m\u001b[1;33m\u001b[0m\u001b[0m\n",
      "\u001b[1;32mC:\\Users\\IBM_ADMIN\\Anaconda3\\lib\\json\\__init__.py\u001b[0m in \u001b[0;36mloads\u001b[1;34m(s, encoding, cls, object_hook, parse_float, parse_int, parse_constant, object_pairs_hook, **kw)\u001b[0m\n\u001b[0;32m    352\u001b[0m             \u001b[0mparse_int\u001b[0m \u001b[1;32mis\u001b[0m \u001b[1;32mNone\u001b[0m \u001b[1;32mand\u001b[0m \u001b[0mparse_float\u001b[0m \u001b[1;32mis\u001b[0m \u001b[1;32mNone\u001b[0m \u001b[1;32mand\u001b[0m\u001b[1;33m\u001b[0m\u001b[0m\n\u001b[0;32m    353\u001b[0m             parse_constant is None and object_pairs_hook is None and not kw):\n\u001b[1;32m--> 354\u001b[1;33m         \u001b[1;32mreturn\u001b[0m \u001b[0m_default_decoder\u001b[0m\u001b[1;33m.\u001b[0m\u001b[0mdecode\u001b[0m\u001b[1;33m(\u001b[0m\u001b[0ms\u001b[0m\u001b[1;33m)\u001b[0m\u001b[1;33m\u001b[0m\u001b[0m\n\u001b[0m\u001b[0;32m    355\u001b[0m     \u001b[1;32mif\u001b[0m \u001b[0mcls\u001b[0m \u001b[1;32mis\u001b[0m \u001b[1;32mNone\u001b[0m\u001b[1;33m:\u001b[0m\u001b[1;33m\u001b[0m\u001b[0m\n\u001b[0;32m    356\u001b[0m         \u001b[0mcls\u001b[0m \u001b[1;33m=\u001b[0m \u001b[0mJSONDecoder\u001b[0m\u001b[1;33m\u001b[0m\u001b[0m\n",
      "\u001b[1;32mC:\\Users\\IBM_ADMIN\\Anaconda3\\lib\\json\\decoder.py\u001b[0m in \u001b[0;36mdecode\u001b[1;34m(self, s, _w)\u001b[0m\n\u001b[0;32m    337\u001b[0m \u001b[1;33m\u001b[0m\u001b[0m\n\u001b[0;32m    338\u001b[0m         \"\"\"\n\u001b[1;32m--> 339\u001b[1;33m         \u001b[0mobj\u001b[0m\u001b[1;33m,\u001b[0m \u001b[0mend\u001b[0m \u001b[1;33m=\u001b[0m \u001b[0mself\u001b[0m\u001b[1;33m.\u001b[0m\u001b[0mraw_decode\u001b[0m\u001b[1;33m(\u001b[0m\u001b[0ms\u001b[0m\u001b[1;33m,\u001b[0m \u001b[0midx\u001b[0m\u001b[1;33m=\u001b[0m\u001b[0m_w\u001b[0m\u001b[1;33m(\u001b[0m\u001b[0ms\u001b[0m\u001b[1;33m,\u001b[0m \u001b[1;36m0\u001b[0m\u001b[1;33m)\u001b[0m\u001b[1;33m.\u001b[0m\u001b[0mend\u001b[0m\u001b[1;33m(\u001b[0m\u001b[1;33m)\u001b[0m\u001b[1;33m)\u001b[0m\u001b[1;33m\u001b[0m\u001b[0m\n\u001b[0m\u001b[0;32m    340\u001b[0m         \u001b[0mend\u001b[0m \u001b[1;33m=\u001b[0m \u001b[0m_w\u001b[0m\u001b[1;33m(\u001b[0m\u001b[0ms\u001b[0m\u001b[1;33m,\u001b[0m \u001b[0mend\u001b[0m\u001b[1;33m)\u001b[0m\u001b[1;33m.\u001b[0m\u001b[0mend\u001b[0m\u001b[1;33m(\u001b[0m\u001b[1;33m)\u001b[0m\u001b[1;33m\u001b[0m\u001b[0m\n\u001b[0;32m    341\u001b[0m         \u001b[1;32mif\u001b[0m \u001b[0mend\u001b[0m \u001b[1;33m!=\u001b[0m \u001b[0mlen\u001b[0m\u001b[1;33m(\u001b[0m\u001b[0ms\u001b[0m\u001b[1;33m)\u001b[0m\u001b[1;33m:\u001b[0m\u001b[1;33m\u001b[0m\u001b[0m\n",
      "\u001b[1;32mC:\\Users\\IBM_ADMIN\\Anaconda3\\lib\\json\\decoder.py\u001b[0m in \u001b[0;36mraw_decode\u001b[1;34m(self, s, idx)\u001b[0m\n\u001b[0;32m    355\u001b[0m             \u001b[0mobj\u001b[0m\u001b[1;33m,\u001b[0m \u001b[0mend\u001b[0m \u001b[1;33m=\u001b[0m \u001b[0mself\u001b[0m\u001b[1;33m.\u001b[0m\u001b[0mscan_once\u001b[0m\u001b[1;33m(\u001b[0m\u001b[0ms\u001b[0m\u001b[1;33m,\u001b[0m \u001b[0midx\u001b[0m\u001b[1;33m)\u001b[0m\u001b[1;33m\u001b[0m\u001b[0m\n\u001b[0;32m    356\u001b[0m         \u001b[1;32mexcept\u001b[0m \u001b[0mStopIteration\u001b[0m \u001b[1;32mas\u001b[0m \u001b[0merr\u001b[0m\u001b[1;33m:\u001b[0m\u001b[1;33m\u001b[0m\u001b[0m\n\u001b[1;32m--> 357\u001b[1;33m             \u001b[1;32mraise\u001b[0m \u001b[0mJSONDecodeError\u001b[0m\u001b[1;33m(\u001b[0m\u001b[1;34m\"Expecting value\"\u001b[0m\u001b[1;33m,\u001b[0m \u001b[0ms\u001b[0m\u001b[1;33m,\u001b[0m \u001b[0merr\u001b[0m\u001b[1;33m.\u001b[0m\u001b[0mvalue\u001b[0m\u001b[1;33m)\u001b[0m \u001b[1;32mfrom\u001b[0m \u001b[1;32mNone\u001b[0m\u001b[1;33m\u001b[0m\u001b[0m\n\u001b[0m\u001b[0;32m    358\u001b[0m         \u001b[1;32mreturn\u001b[0m \u001b[0mobj\u001b[0m\u001b[1;33m,\u001b[0m \u001b[0mend\u001b[0m\u001b[1;33m\u001b[0m\u001b[0m\n",
      "\u001b[1;31mJSONDecodeError\u001b[0m: Expecting value: line 1 column 48 (char 47)"
     ]
    }
   ],
   "source": [
    "features = str(data)\n",
    "data  = json.loads(features)\n",
    "print(data[0])"
   ]
  },
  {
   "cell_type": "code",
   "execution_count": null,
   "metadata": {},
   "outputs": [],
   "source": [
    "#data['sha'].astype(str).astype(int).hist(xlabelsize=20 ,ylabelsize=20)\n",
    "s=pd.to_numeric(data)\n",
    "print(\"series --\",s)\n",
    "data = pd.get_dummies(pd.to_numeric(),dummy_na='True')\n",
    "\n",
    "commitId = pd.factorize(data['sha'])[0]\n",
    "import matplotlib.pyplot as plt\n",
    "                                     \n",
    "plt.hist(commitId, bins=10)\n",
    "                                     \n",
    "plt.show()\n",
    "                                     \n",
    "#commitId.histogram(xlabelsize=20 ,ylabelsize=20)"
   ]
  },
  {
   "cell_type": "code",
   "execution_count": null,
   "metadata": {},
   "outputs": [],
   "source": [
    "'''import re\n",
    "import json\n",
    "\n",
    "\n",
    "\n",
    "for item in data['commit']:\n",
    "    for term in item:\n",
    "      \n",
    "        print(\"-->\", data['commit'][2])\n",
    "        #jdata = json.load(data['commit'][2])\n",
    "      \n",
    "        print(\"***********\", 'fixes' in data['commit'][2] )\n",
    "      \n",
    "\n",
    "'''"
   ]
  },
  {
   "cell_type": "code",
   "execution_count": null,
   "metadata": {},
   "outputs": [],
   "source": [
    "#comments_url\n",
    "import seaborn as sns # statistical visualizations and aesthetics\n",
    "features = data.columns[:-1].tolist()\n",
    "\n",
    "for feat in features:\n",
    "    print(\"====\", feat)\n",
    "    skew = df[feat].skew()\n",
    "    sns.distplot(df[feat], kde= False,color='red', label='Skew = %.3f' %(skew), bins=30)\n",
    "    plt.legend(loc='best')\n",
    "    plt.show()"
   ]
  },
  {
   "cell_type": "code",
   "execution_count": null,
   "metadata": {
    "collapsed": true
   },
   "outputs": [],
   "source": []
  }
 ],
 "metadata": {
  "kernelspec": {
   "display_name": "Python 3",
   "language": "python",
   "name": "python3"
  },
  "language_info": {
   "codemirror_mode": {
    "name": "ipython",
    "version": 3
   },
   "file_extension": ".py",
   "mimetype": "text/x-python",
   "name": "python",
   "nbconvert_exporter": "python",
   "pygments_lexer": "ipython3",
   "version": "3.6.1"
  }
 },
 "nbformat": 4,
 "nbformat_minor": 2
}
