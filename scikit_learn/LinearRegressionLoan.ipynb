{
 "cells": [
  {
   "cell_type": "code",
   "execution_count": 1053,
   "metadata": {
    "collapsed": true
   },
   "outputs": [],
   "source": [
    "import pandas as pd\n",
    "import numpy as np\n",
    "import sklearn\n",
    "import matplotlib as plt"
   ]
  },
  {
   "cell_type": "code",
   "execution_count": 1054,
   "metadata": {
    "collapsed": true
   },
   "outputs": [],
   "source": [
    "from sklearn import datasets"
   ]
  },
  {
   "cell_type": "code",
   "execution_count": 1055,
   "metadata": {},
   "outputs": [],
   "source": [
    "data=pd.read_csv('universalBank.csv')"
   ]
  },
  {
   "cell_type": "code",
   "execution_count": 1056,
   "metadata": {},
   "outputs": [
    {
     "data": {
      "text/html": [
       "<div>\n",
       "<style>\n",
       "    .dataframe thead tr:only-child th {\n",
       "        text-align: right;\n",
       "    }\n",
       "\n",
       "    .dataframe thead th {\n",
       "        text-align: left;\n",
       "    }\n",
       "\n",
       "    .dataframe tbody tr th {\n",
       "        vertical-align: top;\n",
       "    }\n",
       "</style>\n",
       "<table border=\"1\" class=\"dataframe\">\n",
       "  <thead>\n",
       "    <tr style=\"text-align: right;\">\n",
       "      <th></th>\n",
       "      <th>ID</th>\n",
       "      <th>Age</th>\n",
       "      <th>Experience</th>\n",
       "      <th>Income</th>\n",
       "      <th>ZIP Code</th>\n",
       "      <th>Family</th>\n",
       "      <th>CCAvg</th>\n",
       "      <th>Education</th>\n",
       "      <th>Mortgage</th>\n",
       "      <th>Personal Loan</th>\n",
       "      <th>Securities Account</th>\n",
       "      <th>CD Account</th>\n",
       "      <th>Online</th>\n",
       "      <th>CreditCard</th>\n",
       "    </tr>\n",
       "  </thead>\n",
       "  <tbody>\n",
       "    <tr>\n",
       "      <th>0</th>\n",
       "      <td>1</td>\n",
       "      <td>NaN</td>\n",
       "      <td>1</td>\n",
       "      <td>49</td>\n",
       "      <td>91107</td>\n",
       "      <td>4</td>\n",
       "      <td>1.6</td>\n",
       "      <td>1</td>\n",
       "      <td>0</td>\n",
       "      <td>0</td>\n",
       "      <td>1</td>\n",
       "      <td>0</td>\n",
       "      <td>0</td>\n",
       "      <td>0</td>\n",
       "    </tr>\n",
       "    <tr>\n",
       "      <th>1</th>\n",
       "      <td>2</td>\n",
       "      <td>45.0</td>\n",
       "      <td>19</td>\n",
       "      <td>34</td>\n",
       "      <td>90089</td>\n",
       "      <td>3</td>\n",
       "      <td>1.5</td>\n",
       "      <td>1</td>\n",
       "      <td>0</td>\n",
       "      <td>0</td>\n",
       "      <td>1</td>\n",
       "      <td>0</td>\n",
       "      <td>0</td>\n",
       "      <td>0</td>\n",
       "    </tr>\n",
       "    <tr>\n",
       "      <th>2</th>\n",
       "      <td>3</td>\n",
       "      <td>NaN</td>\n",
       "      <td>15</td>\n",
       "      <td>11</td>\n",
       "      <td>94720</td>\n",
       "      <td>1</td>\n",
       "      <td>1.0</td>\n",
       "      <td>1</td>\n",
       "      <td>0</td>\n",
       "      <td>0</td>\n",
       "      <td>0</td>\n",
       "      <td>0</td>\n",
       "      <td>0</td>\n",
       "      <td>0</td>\n",
       "    </tr>\n",
       "    <tr>\n",
       "      <th>3</th>\n",
       "      <td>4</td>\n",
       "      <td>35.0</td>\n",
       "      <td>9</td>\n",
       "      <td>100</td>\n",
       "      <td>94112</td>\n",
       "      <td>1</td>\n",
       "      <td>2.7</td>\n",
       "      <td>2</td>\n",
       "      <td>0</td>\n",
       "      <td>0</td>\n",
       "      <td>0</td>\n",
       "      <td>0</td>\n",
       "      <td>0</td>\n",
       "      <td>0</td>\n",
       "    </tr>\n",
       "    <tr>\n",
       "      <th>4</th>\n",
       "      <td>5</td>\n",
       "      <td>35.0</td>\n",
       "      <td>8</td>\n",
       "      <td>45</td>\n",
       "      <td>91330</td>\n",
       "      <td>4</td>\n",
       "      <td>1.0</td>\n",
       "      <td>2</td>\n",
       "      <td>0</td>\n",
       "      <td>0</td>\n",
       "      <td>0</td>\n",
       "      <td>0</td>\n",
       "      <td>0</td>\n",
       "      <td>1</td>\n",
       "    </tr>\n",
       "  </tbody>\n",
       "</table>\n",
       "</div>"
      ],
      "text/plain": [
       "   ID   Age  Experience  Income  ZIP Code  Family  CCAvg  Education  Mortgage  \\\n",
       "0   1   NaN           1      49     91107       4    1.6          1         0   \n",
       "1   2  45.0          19      34     90089       3    1.5          1         0   \n",
       "2   3   NaN          15      11     94720       1    1.0          1         0   \n",
       "3   4  35.0           9     100     94112       1    2.7          2         0   \n",
       "4   5  35.0           8      45     91330       4    1.0          2         0   \n",
       "\n",
       "   Personal Loan  Securities Account  CD Account  Online  CreditCard  \n",
       "0              0                   1           0       0           0  \n",
       "1              0                   1           0       0           0  \n",
       "2              0                   0           0       0           0  \n",
       "3              0                   0           0       0           0  \n",
       "4              0                   0           0       0           1  "
      ]
     },
     "execution_count": 1056,
     "metadata": {},
     "output_type": "execute_result"
    }
   ],
   "source": [
    "data.head(5)"
   ]
  },
  {
   "cell_type": "code",
   "execution_count": 1057,
   "metadata": {},
   "outputs": [
    {
     "data": {
      "text/plain": [
       "ID                      int64\n",
       "Age                   float64\n",
       "Experience              int64\n",
       "Income                  int64\n",
       "ZIP Code                int64\n",
       "Family                  int64\n",
       "CCAvg                 float64\n",
       "Education               int64\n",
       "Mortgage                int64\n",
       "Personal Loan           int64\n",
       "Securities Account      int64\n",
       "CD Account              int64\n",
       "Online                  int64\n",
       "CreditCard              int64\n",
       "dtype: object"
      ]
     },
     "execution_count": 1057,
     "metadata": {},
     "output_type": "execute_result"
    }
   ],
   "source": [
    "data.dtypes"
   ]
  },
  {
   "cell_type": "code",
   "execution_count": 1058,
   "metadata": {},
   "outputs": [
    {
     "data": {
      "text/plain": [
       "(5000, 14)"
      ]
     },
     "execution_count": 1058,
     "metadata": {},
     "output_type": "execute_result"
    }
   ],
   "source": [
    "data.shape\n",
    "#UB.describe()"
   ]
  },
  {
   "cell_type": "code",
   "execution_count": 1059,
   "metadata": {},
   "outputs": [
    {
     "data": {
      "text/plain": [
       "0    4520\n",
       "1     480\n",
       "Name: Personal Loan, dtype: int64"
      ]
     },
     "execution_count": 1059,
     "metadata": {},
     "output_type": "execute_result"
    }
   ],
   "source": [
    "data['Personal Loan'].value_counts()"
   ]
  },
  {
   "cell_type": "markdown",
   "metadata": {},
   "source": [
    "Fetched the Observation variables and the Target as Income and Personal Loan respectively"
   ]
  },
  {
   "cell_type": "code",
   "execution_count": 1060,
   "metadata": {
    "collapsed": true
   },
   "outputs": [],
   "source": [
    "X,y = data.loc[:, data.columns == \"Income\"],data.loc[:, data.columns == \"Personal Loan\"]"
   ]
  },
  {
   "cell_type": "code",
   "execution_count": 1061,
   "metadata": {},
   "outputs": [
    {
     "name": "stdout",
     "output_type": "stream",
     "text": [
      "35.0    151\n",
      "43.0    149\n",
      "52.0    145\n",
      "54.0    143\n",
      "58.0    143\n",
      "50.0    138\n",
      "41.0    136\n",
      "30.0    136\n",
      "56.0    135\n",
      "34.0    133\n",
      "57.0    132\n",
      "39.0    132\n",
      "59.0    131\n",
      "51.0    129\n",
      "60.0    127\n",
      "45.0    127\n",
      "46.0    127\n",
      "42.0    126\n",
      "55.0    125\n",
      "40.0    125\n",
      "31.0    125\n",
      "29.0    123\n",
      "62.0    123\n",
      "61.0    122\n",
      "44.0    121\n",
      "33.0    120\n",
      "32.0    120\n",
      "48.0    118\n",
      "49.0    115\n",
      "38.0    115\n",
      "47.0    113\n",
      "53.0    112\n",
      "63.0    108\n",
      "36.0    107\n",
      "37.0    106\n",
      "28.0    103\n",
      "27.0     91\n",
      "65.0     80\n",
      "26.0     78\n",
      "64.0     78\n",
      "25.0     52\n",
      "24.0     28\n",
      "66.0     24\n",
      "23.0     12\n",
      "67.0     12\n",
      "Name: Age, dtype: int64\n"
     ]
    }
   ],
   "source": [
    "\n",
    "#print(data['Income'].value_counts())\n",
    "#print(\" Target Observation \" , y.shape )\n",
    "print(data['Age'].value_counts())"
   ]
  },
  {
   "cell_type": "markdown",
   "metadata": {},
   "source": [
    "Impute the missing Numeric values : Age Column using median of Age"
   ]
  },
  {
   "cell_type": "code",
   "execution_count": 1062,
   "metadata": {},
   "outputs": [
    {
     "name": "stdout",
     "output_type": "stream",
     "text": [
      "0        NaN\n",
      "1       45.0\n",
      "2        NaN\n",
      "3       35.0\n",
      "4       35.0\n",
      "5       37.0\n",
      "6       53.0\n",
      "7       50.0\n",
      "8       35.0\n",
      "9        NaN\n",
      "10      65.0\n",
      "11      29.0\n",
      "12      48.0\n",
      "13       NaN\n",
      "14      67.0\n",
      "15      60.0\n",
      "16      38.0\n",
      "17      42.0\n",
      "18      46.0\n",
      "19      55.0\n",
      "20      56.0\n",
      "21      57.0\n",
      "22      29.0\n",
      "23      44.0\n",
      "24      36.0\n",
      "25      43.0\n",
      "26      40.0\n",
      "27      46.0\n",
      "28      56.0\n",
      "29      38.0\n",
      "        ... \n",
      "4970    37.0\n",
      "4971    58.0\n",
      "4972    58.0\n",
      "4973    31.0\n",
      "4974    59.0\n",
      "4975    38.0\n",
      "4976    29.0\n",
      "4977    40.0\n",
      "4978    57.0\n",
      "4979    50.0\n",
      "4980    29.0\n",
      "4981    34.0\n",
      "4982    36.0\n",
      "4983    51.0\n",
      "4984    27.0\n",
      "4985    48.0\n",
      "4986    32.0\n",
      "4987    48.0\n",
      "4988    34.0\n",
      "4989    24.0\n",
      "4990    55.0\n",
      "4991    51.0\n",
      "4992    30.0\n",
      "4993    45.0\n",
      "4994    64.0\n",
      "4995    29.0\n",
      "4996    30.0\n",
      "4997    63.0\n",
      "4998    65.0\n",
      "4999    28.0\n",
      "Name: Age, Length: 5000, dtype: float64\n",
      "ID                    0\n",
      "Age                   4\n",
      "Experience            0\n",
      "Income                0\n",
      "ZIP Code              0\n",
      "Family                0\n",
      "CCAvg                 0\n",
      "Education             0\n",
      "Mortgage              0\n",
      "Personal Loan         0\n",
      "Securities Account    0\n",
      "CD Account            0\n",
      "Online                0\n",
      "CreditCard            0\n",
      "dtype: int64\n",
      "ID                    0\n",
      "Age                   0\n",
      "Experience            0\n",
      "Income                0\n",
      "ZIP Code              0\n",
      "Family                0\n",
      "CCAvg                 0\n",
      "Education             0\n",
      "Mortgage              0\n",
      "Personal Loan         0\n",
      "Securities Account    0\n",
      "CD Account            0\n",
      "Online                0\n",
      "CreditCard            0\n",
      "dtype: int64\n",
      "   After Imputation............... \n",
      "0       64.0\n",
      "1       45.0\n",
      "2       64.0\n",
      "3       35.0\n",
      "4       35.0\n",
      "5       37.0\n",
      "6       53.0\n",
      "7       50.0\n",
      "8       35.0\n",
      "9       64.0\n",
      "10      65.0\n",
      "11      29.0\n",
      "12      48.0\n",
      "13      64.0\n",
      "14      67.0\n",
      "15      60.0\n",
      "16      38.0\n",
      "17      42.0\n",
      "18      46.0\n",
      "19      55.0\n",
      "20      56.0\n",
      "21      57.0\n",
      "22      29.0\n",
      "23      44.0\n",
      "24      36.0\n",
      "25      43.0\n",
      "26      40.0\n",
      "27      46.0\n",
      "28      56.0\n",
      "29      38.0\n",
      "        ... \n",
      "4970    37.0\n",
      "4971    58.0\n",
      "4972    58.0\n",
      "4973    31.0\n",
      "4974    59.0\n",
      "4975    38.0\n",
      "4976    29.0\n",
      "4977    40.0\n",
      "4978    57.0\n",
      "4979    50.0\n",
      "4980    29.0\n",
      "4981    34.0\n",
      "4982    36.0\n",
      "4983    51.0\n",
      "4984    27.0\n",
      "4985    48.0\n",
      "4986    32.0\n",
      "4987    48.0\n",
      "4988    34.0\n",
      "4989    24.0\n",
      "4990    55.0\n",
      "4991    51.0\n",
      "4992    30.0\n",
      "4993    45.0\n",
      "4994    64.0\n",
      "4995    29.0\n",
      "4996    30.0\n",
      "4997    63.0\n",
      "4998    65.0\n",
      "4999    28.0\n",
      "Name: Age, Length: 5000, dtype: float64\n",
      "ID                    0\n",
      "Age                   0\n",
      "Experience            0\n",
      "Income                0\n",
      "ZIP Code              0\n",
      "Family                0\n",
      "CCAvg                 0\n",
      "Education             0\n",
      "Mortgage              0\n",
      "Personal Loan         0\n",
      "Securities Account    0\n",
      "CD Account            0\n",
      "Online                0\n",
      "CreditCard            0\n",
      "dtype: int64\n"
     ]
    }
   ],
   "source": [
    "from sklearn.preprocessing import Imputer\n",
    "import numpy\n",
    "\n",
    "#data['Age'] = Imputer.fit_transform(data['Age'])\n",
    "\n",
    "print(data['Age'])\n",
    "\n",
    "print(data.isnull().sum())\n",
    "\n",
    "\n",
    "data.loc[data['Age'].isnull(),'Age'] = data['Income'].median()\n",
    "# count the number of NaN values in each column\n",
    "print(data.isnull().sum())\n",
    "\n",
    "print(\"   After Imputation............... \" )\n",
    "\n",
    "print(data['Age'])\n",
    "\n",
    "print(data.isnull().sum())\n",
    "\n"
   ]
  },
  {
   "cell_type": "markdown",
   "metadata": {},
   "source": [
    "Applying the Standard Scalar: Need to check the order of same wrt Strtification ??????????????????????"
   ]
  },
  {
   "cell_type": "code",
   "execution_count": 1063,
   "metadata": {},
   "outputs": [
    {
     "name": "stdout",
     "output_type": "stream",
     "text": [
      "mean : Age                      45.228000\n",
      "Experience               20.001143\n",
      "Income                   74.253714\n",
      "ZIP Code              93130.595143\n",
      "Family                    2.390571\n",
      "CCAvg                     1.945883\n",
      "Education                 1.876857\n",
      "Mortgage                 57.516286\n",
      "Securities Account        0.109714\n",
      "CD Account                0.061143\n",
      "Online                    0.601143\n",
      "CreditCard                0.291429\n",
      "dtype: float64 \n",
      "standard deviation : Age                     11.552582\n",
      "Experience              11.556242\n",
      "Income                  46.317649\n",
      "ZIP Code              2249.840881\n",
      "Family                   1.145725\n",
      "CCAvg                    1.763778\n",
      "Education                0.838473\n",
      "Mortgage               104.361390\n",
      "Securities Account       0.312578\n",
      "CD Account               0.239626\n",
      "Online                   0.489733\n",
      "CreditCard               0.454485\n",
      "dtype: float64 \n"
     ]
    }
   ],
   "source": [
    "from sklearn.preprocessing import StandardScaler\n",
    "from sklearn.tree import DecisionTreeClassifier\n",
    "\n",
    "\n",
    "\n",
    "#print(X_train.shape)\n",
    "print(\"mean : %s \" % X_train.mean(axis=0))\n",
    "print(\"standard deviation : %s \" % X_train.std(axis=0))\n",
    "\n",
    "\n"
   ]
  },
  {
   "cell_type": "markdown",
   "metadata": {},
   "source": [
    "After  applying Standard scaler : Standard Deviation goes to 1 "
   ]
  },
  {
   "cell_type": "code",
   "execution_count": 1064,
   "metadata": {},
   "outputs": [
    {
     "name": "stdout",
     "output_type": "stream",
     "text": [
      "(3500, 12)\n",
      "mean : [ -1.28405223e-16   9.23705556e-17   9.74458609e-17   1.54289280e-16\n",
      "   3.45120757e-17  -4.66928083e-17   1.56319402e-16   1.11656716e-17\n",
      "   9.74458609e-17  -5.02455220e-17   5.07530526e-17   1.59872116e-17] \n",
      "standard deviation : [ 1.  1.  1.  1.  1.  1.  1.  1.  1.  1.  1.  1.] \n"
     ]
    }
   ],
   "source": [
    "\n",
    "#### Scalar Deviation bring the variables on same scalar. with std deviation as 1\n",
    "scaler = StandardScaler()\n",
    "\n",
    "\n",
    "scaler.fit(X_train)\n",
    "X_train_scaled = scaler.transform(X_train)\n",
    "print(X_train_scaled.shape)\n",
    "print(\"mean : %s \" % X_train_scaled.mean(axis=0))\n",
    "print(\"standard deviation : %s \" % X_train_scaled.std(axis=0))\n"
   ]
  },
  {
   "cell_type": "markdown",
   "metadata": {},
   "source": [
    "Before Stratification for the test data set : TO Do"
   ]
  },
  {
   "cell_type": "code",
   "execution_count": 1065,
   "metadata": {},
   "outputs": [
    {
     "name": "stdout",
     "output_type": "stream",
     "text": [
      " Before  stratefication.................\n",
      "Income    63.0\n",
      "dtype: float64\n"
     ]
    }
   ],
   "source": [
    "from sklearn.model_selection import train_test_split\n",
    "\n",
    "\n",
    "X_train, X_test, y_train, y_test = train_test_split(X, y,\n",
    "                                                    test_size=0.25)\n",
    "#### How it changes when stratify is NOT y/ is default?????\n",
    "\n",
    "\n",
    "\n",
    "\n",
    "\n",
    "print(\" Before  stratefication.................\")\n",
    "\n",
    "#print(data['Personal Loan'].unique())\n",
    "#print(np.bincount(y))\n",
    "#print(float(len(y)) * 100.0))\n",
    "\n",
    "#print('All:', np.bincount(y) / float(len(y)) * 100.0)\n",
    "#print('Training:', np.bincount(y_train) / float(len(y_train)) * 100.0)\n",
    "#print('Test:', np.bincount(y_test) / float(len(y_test)) * 100.0)\n",
    "print(X_train.median())\n"
   ]
  },
  {
   "cell_type": "markdown",
   "metadata": {},
   "source": [
    "After Stratification for the test data set : TO DO"
   ]
  },
  {
   "cell_type": "code",
   "execution_count": 1066,
   "metadata": {},
   "outputs": [
    {
     "name": "stdout",
     "output_type": "stream",
     "text": [
      " After stratefication.................\n"
     ]
    }
   ],
   "source": [
    "X_train, X_test, y_train, y_test = train_test_split(X, y,\n",
    "                                                    test_size=0.25,\n",
    "                                                    stratify=y)\n",
    "\n",
    "\n",
    "\n",
    "\n",
    "\n",
    "print(\" After stratefication.................\")\n",
    "\n",
    "#print('All:', np.bincount(y) / float(len(y)) * 100.0)\n",
    "#print('Training:', np.bincount(y_train) / float(len(y_train)) * 100.0)\n",
    "#print('Test:', np.bincount(y_test) / float(len(y_test)) * 100.0)\n"
   ]
  },
  {
   "cell_type": "code",
   "execution_count": 1067,
   "metadata": {
    "collapsed": true
   },
   "outputs": [],
   "source": [
    "%matplotlib inline"
   ]
  },
  {
   "cell_type": "markdown",
   "metadata": {},
   "source": [
    "Here we get the median for the Income : before Stratification"
   ]
  },
  {
   "cell_type": "code",
   "execution_count": 1068,
   "metadata": {},
   "outputs": [
    {
     "data": {
      "text/plain": [
       "Income    63.0\n",
       "dtype: float64"
      ]
     },
     "execution_count": 1068,
     "metadata": {},
     "output_type": "execute_result"
    }
   ],
   "source": [
    "X_train.median()"
   ]
  },
  {
   "cell_type": "code",
   "execution_count": 1069,
   "metadata": {},
   "outputs": [
    {
     "data": {
      "text/plain": [
       "[<matplotlib.lines.Line2D at 0x126c9128>]"
      ]
     },
     "execution_count": 1069,
     "metadata": {},
     "output_type": "execute_result"
    },
    {
     "data": {
      "image/png": "[encoded data removed]",
      "text/plain": [
       "<matplotlib.figure.Figure at 0x12200f28>"
      ]
     },
     "metadata": {},
     "output_type": "display_data"
    }
   ],
   "source": [
    "import matplotlib.pyplot as plt\n",
    "#X_test = X_test[0,:]\n",
    "X_test = np.array(data['Income'])\n",
    "y_test = np.array(data['Personal Loan'])\n",
    "m, b = np.polyfit(X_test, y_test, 1)\n",
    "\n",
    "plt.plot(X_test, y_test, '.',label='Line 1')\n",
    "plt.plot(X_test, m*X_test + b, '-',label='Line 2')"
   ]
  },
  {
   "cell_type": "code",
   "execution_count": 1070,
   "metadata": {},
   "outputs": [
    {
     "data": {
      "text/plain": [
       "<matplotlib.axes._subplots.AxesSubplot at 0x1276afd0>"
      ]
     },
     "execution_count": 1070,
     "metadata": {},
     "output_type": "execute_result"
    },
    {
     "data": {
      "image/png": "[encoded data removed]",
      "text/plain": [
       "<matplotlib.figure.Figure at 0x126b14e0>"
      ]
     },
     "metadata": {},
     "output_type": "display_data"
    }
   ],
   "source": [
    "\n",
    "data['Income'].hist()"
   ]
  },
  {
   "cell_type": "code",
   "execution_count": 1071,
   "metadata": {},
   "outputs": [
    {
     "data": {
      "text/plain": [
       "<matplotlib.axes._subplots.AxesSubplot at 0x1278e198>"
      ]
     },
     "execution_count": 1071,
     "metadata": {},
     "output_type": "execute_result"
    },
    {
     "data": {
      "image/png": "[encoded data removed]",
      "text/plain": [
       "<matplotlib.figure.Figure at 0x137e8860>"
      ]
     },
     "metadata": {},
     "output_type": "display_data"
    }
   ],
   "source": [
    "X_train.boxplot(column='Income')"
   ]
  },
  {
   "cell_type": "code",
   "execution_count": 1072,
   "metadata": {},
   "outputs": [
    {
     "data": {
      "text/plain": [
       "Index(['ID', 'Age', 'Experience', 'Income', 'ZIP Code', 'Family', 'CCAvg',\n",
       "       'Education', 'Mortgage', 'Personal Loan', 'Securities Account',\n",
       "       'CD Account', 'Online', 'CreditCard'],\n",
       "      dtype='object')"
      ]
     },
     "execution_count": 1072,
     "metadata": {},
     "output_type": "execute_result"
    }
   ],
   "source": [
    "UB.columns"
   ]
  },
  {
   "cell_type": "code",
   "execution_count": 1073,
   "metadata": {
    "collapsed": true
   },
   "outputs": [],
   "source": [
    "missingVals= list(UB.isnull().sum())"
   ]
  },
  {
   "cell_type": "code",
   "execution_count": 1074,
   "metadata": {},
   "outputs": [
    {
     "data": {
      "text/plain": [
       "[0, 0, 0, 0, 0, 0, 0, 0, 0, 0, 0, 0, 0, 0]"
      ]
     },
     "execution_count": 1074,
     "metadata": {},
     "output_type": "execute_result"
    }
   ],
   "source": [
    "missingVals"
   ]
  },
  {
   "cell_type": "code",
   "execution_count": 1075,
   "metadata": {
    "collapsed": true
   },
   "outputs": [],
   "source": [
    "from sklearn.linear_model import LogisticRegression\n",
    "from sklearn.ensemble import RandomForestClassifier\n",
    "from sklearn.tree import DecisionTreeClassifier\n",
    "from sklearn.model_selection import train_test_split\n",
    "from sklearn import metrics\n",
    "from sklearn.metrics import accuracy_score"
   ]
  },
  {
   "cell_type": "code",
   "execution_count": 1076,
   "metadata": {
    "collapsed": true
   },
   "outputs": [],
   "source": [
    "outcome_var='Personal Loan'\n",
    "predictor_var=['Age', 'Experience', 'Income', 'ZIP Code', 'Family', 'CCAvg',\n",
    "       'Education', 'Mortgage', 'Securities Account','CD Account', 'Online', 'CreditCard']"
   ]
  },
  {
   "cell_type": "code",
   "execution_count": 1077,
   "metadata": {
    "collapsed": true
   },
   "outputs": [],
   "source": [
    "X = UB[predictor_var]\n",
    "Y = UB[outcome_var]"
   ]
  },
  {
   "cell_type": "code",
   "execution_count": 1078,
   "metadata": {
    "collapsed": true
   },
   "outputs": [],
   "source": [
    "X_train,X_test,Y_train,Y_test = train_test_split(X,Y,train_size=0.7)"
   ]
  },
  {
   "cell_type": "code",
   "execution_count": 1079,
   "metadata": {
    "collapsed": true
   },
   "outputs": [],
   "source": [
    "My1stmodel=DecisionTreeClassifier()"
   ]
  },
  {
   "cell_type": "code",
   "execution_count": 1080,
   "metadata": {},
   "outputs": [
    {
     "data": {
      "text/plain": [
       "DecisionTreeClassifier(class_weight=None, criterion='gini', max_depth=None,\n",
       "            max_features=None, max_leaf_nodes=None,\n",
       "            min_impurity_split=1e-07, min_samples_leaf=1,\n",
       "            min_samples_split=2, min_weight_fraction_leaf=0.0,\n",
       "            presort=False, random_state=None, splitter='best')"
      ]
     },
     "execution_count": 1080,
     "metadata": {},
     "output_type": "execute_result"
    }
   ],
   "source": [
    "My1stmodel.fit(X_train,Y_train)"
   ]
  },
  {
   "cell_type": "code",
   "execution_count": 1081,
   "metadata": {
    "collapsed": true
   },
   "outputs": [],
   "source": [
    "predictions=My1stmodel.predict(X_test)"
   ]
  },
  {
   "cell_type": "code",
   "execution_count": 1082,
   "metadata": {},
   "outputs": [
    {
     "name": "stdout",
     "output_type": "stream",
     "text": [
      "0.982666666667\n"
     ]
    }
   ],
   "source": [
    "#print accuracy\n",
    "print(metrics.accuracy_score(Y_test,predictions))"
   ]
  },
  {
   "cell_type": "code",
   "execution_count": 1083,
   "metadata": {},
   "outputs": [
    {
     "data": {
      "text/plain": [
       "0    1352\n",
       "1     148\n",
       "Name: Personal Loan, dtype: int64"
      ]
     },
     "execution_count": 1083,
     "metadata": {},
     "output_type": "execute_result"
    }
   ],
   "source": [
    "Y_test.value_counts()"
   ]
  },
  {
   "cell_type": "code",
   "execution_count": 1084,
   "metadata": {},
   "outputs": [
    {
     "name": "stdout",
     "output_type": "stream",
     "text": [
      "True: [0 0 0 1 0 1 0 0 0 0 0 0 0 0 0 0 0 0 0 0 0 0 0 0 0 0 0 0 0 0 0 0 0 0 0 0 0\n",
      " 0 0 0 0 0 0 0 0 0 0 0 0 0]\n",
      "Pred: [0 0 0 1 0 1 0 0 0 0 0 0 0 0 0 0 0 0 0 0 0 0 0 0 0 0 0 0 0 0 0 0 0 0 0 0 0\n",
      " 0 0 0 0 0 0 0 0 0 0 0 0 0]\n"
     ]
    }
   ],
   "source": [
    "print('True:',Y_test.values[0:50])\n",
    "print('Pred:',predictions[0:50])"
   ]
  },
  {
   "cell_type": "code",
   "execution_count": 1085,
   "metadata": {},
   "outputs": [
    {
     "name": "stdout",
     "output_type": "stream",
     "text": [
      "[[1341   11]\n",
      " [  15  133]]\n"
     ]
    }
   ],
   "source": [
    "print(metrics.confusion_matrix(Y_test,predictions))"
   ]
  },
  {
   "cell_type": "code",
   "execution_count": 1086,
   "metadata": {
    "collapsed": true
   },
   "outputs": [],
   "source": [
    "confusion = metrics.confusion_matrix(Y_test,predictions)\n",
    "TP = confusion[1,1]\n",
    "TN = confusion[0,0]\n",
    "FP = confusion[0,1]\n",
    "FN = confusion[1,0]"
   ]
  },
  {
   "cell_type": "code",
   "execution_count": 1087,
   "metadata": {},
   "outputs": [
    {
     "data": {
      "text/plain": [
       "array([[1341,   15],\n",
       "       [  11,  133]])"
      ]
     },
     "execution_count": 1087,
     "metadata": {},
     "output_type": "execute_result"
    }
   ],
   "source": [
    "metrics.confusion_matrix(predictions,Y_test)"
   ]
  },
  {
   "cell_type": "code",
   "execution_count": 1088,
   "metadata": {},
   "outputs": [
    {
     "data": {
      "image/png": "test.png",
      "text/plain": [
       "<IPython.core.display.Image object>"
      ]
     },
     "metadata": {
      "image/png": {
       "height": 2000,
       "unconfined": true,
       "width": 1900
      }
     },
     "output_type": "display_data"
    }
   ],
   "source": [
    "from sklearn import tree\n",
    "\n",
    "from sklearn.tree import export_graphviz\n",
    "tree.export_graphviz(My1stmodel,out_file='test.dot')\n",
    "\n",
    "from IPython.core.display import Image, display\n",
    "display(Image('test.png', width=1900, height=2000, unconfined=True))"
   ]
  }
 ],
 "metadata": {
  "kernelspec": {
   "display_name": "Python 3",
   "language": "python",
   "name": "python3"
  },
  "language_info": {
   "codemirror_mode": {
    "name": "ipython",
    "version": 3
   },
   "file_extension": ".py",
   "mimetype": "text/x-python",
   "name": "python",
   "nbconvert_exporter": "python",
   "pygments_lexer": "ipython3",
   "version": "3.6.1"
  }
 },
 "nbformat": 4,
 "nbformat_minor": 2
}
